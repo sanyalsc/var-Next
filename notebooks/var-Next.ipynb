{
 "cells": [
  {
   "cell_type": "markdown",
   "id": "37b2bb29-c19e-43a0-9404-c4809134461b",
   "metadata": {},
   "source": [
    "# Var-Next - Next frame prediction using variational autoencoders\n",
    "***\n",
    "Shantanu Sanyal\n",
    "\n",
    "Univerisity of Virginia\n"
   ]
  },
  {
   "cell_type": "markdown",
   "id": "7367cc4d-a545-4c61-a273-d5d4484e11b4",
   "metadata": {},
   "source": [
    "## Introduction\n",
    "Introduced by Kingma and Welling in 2013, VAEs offer a powerful framework for learning complex data distributions by introducing stochasticity to the encoding process.  The VAE is an example of a latent variable model; the encoder's task in a VAE is to learn the latent space of \n"
   ]
  },
  {
   "cell_type": "code",
   "execution_count": null,
   "id": "eda35031-465e-4165-99c5-86ec5df974dd",
   "metadata": {},
   "outputs": [],
   "source": []
  }
 ],
 "metadata": {
  "kernelspec": {
   "display_name": "Python 3 (ipykernel)",
   "language": "python",
   "name": "python3"
  },
  "language_info": {
   "codemirror_mode": {
    "name": "ipython",
    "version": 3
   },
   "file_extension": ".py",
   "mimetype": "text/x-python",
   "name": "python",
   "nbconvert_exporter": "python",
   "pygments_lexer": "ipython3",
   "version": "3.11.5"
  }
 },
 "nbformat": 4,
 "nbformat_minor": 5
}
